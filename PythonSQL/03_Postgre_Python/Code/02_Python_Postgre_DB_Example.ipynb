{
 "cells": [
  {
   "cell_type": "code",
   "execution_count": 19,
   "metadata": {},
   "outputs": [],
   "source": [
    "import psycopg2\n",
    "import logging\n",
    "import datetime"
   ]
  },
  {
   "cell_type": "code",
   "execution_count": 20,
   "metadata": {},
   "outputs": [],
   "source": [
    "def init_logger():\n",
    "## Below we can log the details to file name | note here logging level is info\n",
    "#https://docs.python.org/3/howto/logging.html\n",
    "   logging.basicConfig(filename=\"ETL_log.log\",level=logging.INFO , format='%(asctime)s %(message)s',force=True)\n",
    "   logging.info('--Start of the logging--')"
   ]
  },
  {
   "cell_type": "code",
   "execution_count": 21,
   "metadata": {},
   "outputs": [],
   "source": [
    "def test_connect_to_ps():\n",
    "    \"\"\"Test the connection to the PostgreSQL database server\"\"\"\n",
    "    conn = None\n",
    "\n",
    "    try:\n",
    "         # connect to the PostgreSQL server\n",
    "        logging.info('Step 1 Testing Connecting to the PostgreSQL database...')\n",
    "    \n",
    "        conn= psycopg2.connect(\n",
    "                        database=\"retail_db\",\n",
    "                        user=\"retail_db_user\",\n",
    "                        password=\"Ss0061933!\",\n",
    "                        host=\"localhost\",\n",
    "                        port= '5432'\n",
    "                        )\n",
    "    \n",
    "        # create a cursor\n",
    "        cur= conn.cursor()\n",
    "        # execute a statement\n",
    "        logging.info('Step 2 PostgreSQL database version:')\n",
    "        cur.execute('SELECT version ()')\n",
    "        # display the PostgreSQL database server version\n",
    "        db_version = cur.fetchone()\n",
    "        logging.info(db_version)\n",
    "        \n",
    "        # close the communication with the PostgreSQL\n",
    "        cur.close()\n",
    "    except (Exception, psycopg2. DatabaseError) as error:\n",
    "        logging.error(error)\n",
    "    finally:\n",
    "        if conn is not None:\n",
    "            conn.close()\n",
    "            logging.info('Database connection closed.')\n",
    "            print(\"---Success---\")"
   ]
  },
  {
   "cell_type": "code",
   "execution_count": 22,
   "metadata": {},
   "outputs": [],
   "source": [
    "def connect_to_ps():\n",
    "    \"\"\"Connect to the PostgreSQL database server\"\"\"\n",
    "    try:\n",
    "         # connect to the PostgreSQL server\n",
    "        logging.info('Step 3 Connecting to the PostgreSQL database...')\n",
    "    \n",
    "        conn= psycopg2.connect(\n",
    "                        database=\"retail_db\",\n",
    "                        user=\"retail_db_user\",\n",
    "                        password=\"Ss0061933!\",\n",
    "                        host=\"localhost\",\n",
    "                        port= '5432'\n",
    "                        )\n",
    "        return conn\n",
    "    \n",
    "    except (Exception, psycopg2. DatabaseError) as error:\n",
    "        logging.error(error)\n"
   ]
  },
  {
   "cell_type": "code",
   "execution_count": 23,
   "metadata": {},
   "outputs": [],
   "source": [
    "def create_table(conn,table_name,columns):\n",
    "    '''\n",
    "      Function create_ table is used to create a new table\n",
    "     Parameters\n",
    "     ----------\n",
    "        table_name: table name\n",
    "        columns: columns names with data type \n",
    "    '''\n",
    "    try:\n",
    "        \n",
    "        cur = conn.cursor() #create a cursor to execute queries\n",
    "        logging.info('Step 222 PostgreSQL database version:')\n",
    "        cur.execute('SELECT version ()')\n",
    "        # display the PostgreSQL database server version\n",
    "        db_version = cur.fetchone()\n",
    "        logging.info(db_version)\n",
    "\n",
    "        q_create_table=f\"CREATE TABLE public.{table_name} ({columns})\"\n",
    "        \n",
    "        #print(q_create_table)\n",
    "        cur.execute(q_create_table) #executi\n",
    "\n",
    "        cur.close() #connection closed\n",
    "        \n",
    "        conn.commit() # commit the changes\n",
    "\n",
    "        logging.info(f\"Step 4 {table_name} created\")\n",
    "        \n",
    "        \n",
    "    except Exception as e:\n",
    "         \n",
    "         cur.close() #connection closed\n",
    "         error_message=str(e)\n",
    "         print(error_message)\n",
    "         logging.info( f\"table not created error :{error_message}\") \n",
    "         #print(str(e))\n",
    "         "
   ]
  },
  {
   "cell_type": "code",
   "execution_count": 24,
   "metadata": {},
   "outputs": [
    {
     "name": "stdout",
     "output_type": "stream",
     "text": [
      "---Success---\n",
      "relation \"postgre_pythonss\" already exists\n",
      "\n"
     ]
    }
   ],
   "source": [
    "#Main function call\n",
    "init_logger()\n",
    "test_connect_to_ps()\n",
    "table_name='Postgre_pythonss'\n",
    "columns=\"did int,dname varchar(10)\"\n",
    "conn=connect_to_ps()\n",
    "#print(conn)\n",
    "create_table(conn,table_name,columns)\n"
   ]
  },
  {
   "cell_type": "code",
   "execution_count": null,
   "metadata": {},
   "outputs": [],
   "source": []
  },
  {
   "cell_type": "code",
   "execution_count": null,
   "metadata": {},
   "outputs": [],
   "source": []
  }
 ],
 "metadata": {
  "kernelspec": {
   "display_name": "pr-venv",
   "language": "python",
   "name": "python3"
  },
  "language_info": {
   "codemirror_mode": {
    "name": "ipython",
    "version": 3
   },
   "file_extension": ".py",
   "mimetype": "text/x-python",
   "name": "python",
   "nbconvert_exporter": "python",
   "pygments_lexer": "ipython3",
   "version": "3.11.1"
  },
  "orig_nbformat": 4
 },
 "nbformat": 4,
 "nbformat_minor": 2
}

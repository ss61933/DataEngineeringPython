{
 "cells": [
  {
   "cell_type": "markdown",
   "id": "f7756b06",
   "metadata": {},
   "source": [
    "# Import lib | config"
   ]
  },
  {
   "cell_type": "code",
   "execution_count": 77,
   "id": "749e9d8d",
   "metadata": {},
   "outputs": [],
   "source": [
    "import boto3\n",
    "import pandas as pd\n",
    "from io import StringIO\n",
    "from datetime import *"
   ]
  },
  {
   "cell_type": "markdown",
   "id": "ce0224ab",
   "metadata": {},
   "source": [
    "# Adapter layer \n",
    "# Establish source & Target connection | Read from input  files | Write to Target files "
   ]
  },
  {
   "cell_type": "code",
   "execution_count": 78,
   "id": "4925939d",
   "metadata": {},
   "outputs": [],
   "source": [
    "def read_csv_to_df(src_bucket, src_file, decoding = 'utf-8', sep = ','):\n",
    "    csv_obj = src_bucket.Object(key=src_file).get().get('Body').read().decode(decoding)\n",
    "    data = StringIO(csv_obj)\n",
    "    df = pd.read_csv(data, delimiter=sep)\n",
    "    return df\n"
   ]
  },
  {
   "cell_type": "code",
   "execution_count": 79,
   "id": "e4415cbd",
   "metadata": {},
   "outputs": [],
   "source": [
    "def write_df_to_s3(trg_bucket, df, trgt_file):\n",
    "    out_buffer = StringIO()\n",
    "    df.to_csv(out_buffer, index=False)\n",
    "    trg_bucket.put_object(Body=out_buffer.getvalue(), Key=key)\n",
    "    return True"
   ]
  },
  {
   "cell_type": "markdown",
   "id": "206cb6dc",
   "metadata": {},
   "source": [
    "# Application layer | Transformation Logic "
   ]
  },
  {
   "cell_type": "code",
   "execution_count": 80,
   "id": "899bc7c2",
   "metadata": {},
   "outputs": [],
   "source": [
    "def transform_report(df_stage, trgt_file_columns):\n",
    "    df_stage = df_stage.loc[:, trgt_file_columns]\n",
    "    df_stage.dropna(inplace=True)\n",
    "    \n",
    "    #Add all transformation steps here \n",
    "    return df_stage\n",
    "\n",
    "def load(trg_bucket, df_stage, trgt_file):\n",
    "    # Add any other intermediate steps here\n",
    "    write_df_to_s3(trg_bucket, df_stage, trgt_file)\n",
    "    return True\n",
    "\n",
    "# Invoke ETl\n",
    "def etl_report(df, trgt_file_columns, trg_bucket, trgt_file):\n",
    "    df = transform_report(df, trgt_file_columns)\n",
    "    load(trg_bucket, df, trgt_file)\n",
    "    return True"
   ]
  },
  {
   "cell_type": "markdown",
   "id": "c0a810b7",
   "metadata": {},
   "source": [
    "# main function entrypoint"
   ]
  },
  {
   "cell_type": "code",
   "execution_count": 81,
   "id": "41712a62",
   "metadata": {},
   "outputs": [],
   "source": [
    "def main():\n",
    "    # Parameters/Configurations\n",
    "    # Later read config\n",
    "\n",
    "    arg_date_format = '%Y-%m-%d'\n",
    "    src_bucket = 'buckets3stocholm'\n",
    "    src_file   =  'employees.csv'\n",
    "    file_ext   ='.csv'\n",
    "   \n",
    "    trg_bucket = 'buckets3stocholm'\n",
    "    trgt_file_columns = ['EMPLOYEE_ID','HIRE_DATE', 'JOB_ID', 'SALARY', 'MANAGER_ID', 'DEPARTMENT_ID']\n",
    "    trgt_file ='employees_op_'+ datetime.today().strftime(arg_date_format)+file_ext\n",
    "        \n",
    "    # Initialization\n",
    "    s3 = boto3.resource('s3')\n",
    "    src_bucket = s3.Bucket(src_bucket)\n",
    "    trg_bucket = s3.Bucket(trg_bucket)\n",
    "    \n",
    "    # run application\n",
    "    #read\n",
    "    df =read_csv_to_df(src_bucket, src_file)\n",
    "    \n",
    "    #etl and load \n",
    "    etl_report(df, trgt_file_columns, trg_bucket, trgt_file)"
   ]
  },
  {
   "cell_type": "markdown",
   "id": "c01227eb",
   "metadata": {},
   "source": [
    "# Run the Main function"
   ]
  },
  {
   "cell_type": "code",
   "execution_count": 82,
   "id": "3bfccaad",
   "metadata": {},
   "outputs": [],
   "source": [
    "main()"
   ]
  },
  {
   "cell_type": "markdown",
   "id": "fec1ee57",
   "metadata": {},
   "source": [
    "# Reading uploaded file  | Testing"
   ]
  },
  {
   "cell_type": "code",
   "execution_count": 83,
   "id": "26f047b4",
   "metadata": {},
   "outputs": [
    {
     "name": "stdout",
     "output_type": "stream",
     "text": [
      "employees_op_20230407_204855.csv\n"
     ]
    }
   ],
   "source": [
    "trg_bucket = 'buckets3stocholm'\n",
    "trgt_file ='employees_op_'+ datetime.today().strftime(arg_date_format)+file_ext\n",
    "\n",
    "s3 = boto3.resource('s3')\n",
    "trg_bucket = s3.Bucket(trg_bucket)\n",
    "\n",
    "for obj in  trg_bucket.objects.all():\n",
    "    if (obj.key==key):\n",
    "        print(obj.key)\n",
    "        csv_obj=trg_bucket.Object(key=obj.key).get().get('Body').read().decode('utf8')\n",
    "        data=StringIO(csv_obj)\n",
    "        emp_target=pd.read_csv(data,delimiter=',')\n",
    "        "
   ]
  },
  {
   "cell_type": "code",
   "execution_count": 84,
   "id": "f3846edb",
   "metadata": {},
   "outputs": [
    {
     "data": {
      "text/html": [
       "<div>\n",
       "<style scoped>\n",
       "    .dataframe tbody tr th:only-of-type {\n",
       "        vertical-align: middle;\n",
       "    }\n",
       "\n",
       "    .dataframe tbody tr th {\n",
       "        vertical-align: top;\n",
       "    }\n",
       "\n",
       "    .dataframe thead th {\n",
       "        text-align: right;\n",
       "    }\n",
       "</style>\n",
       "<table border=\"1\" class=\"dataframe\">\n",
       "  <thead>\n",
       "    <tr style=\"text-align: right;\">\n",
       "      <th></th>\n",
       "      <th>EMPLOYEE_ID</th>\n",
       "      <th>HIRE_DATE</th>\n",
       "      <th>JOB_ID</th>\n",
       "      <th>SALARY</th>\n",
       "      <th>MANAGER_ID</th>\n",
       "      <th>DEPARTMENT_ID</th>\n",
       "    </tr>\n",
       "  </thead>\n",
       "  <tbody>\n",
       "    <tr>\n",
       "      <th>0</th>\n",
       "      <td>101</td>\n",
       "      <td>12/07/2011</td>\n",
       "      <td>AD_VP</td>\n",
       "      <td>17000</td>\n",
       "      <td>100.0</td>\n",
       "      <td>90.0</td>\n",
       "    </tr>\n",
       "    <tr>\n",
       "      <th>1</th>\n",
       "      <td>102</td>\n",
       "      <td>03/31/2015</td>\n",
       "      <td>AD_VP</td>\n",
       "      <td>17000</td>\n",
       "      <td>100.0</td>\n",
       "      <td>90.0</td>\n",
       "    </tr>\n",
       "    <tr>\n",
       "      <th>2</th>\n",
       "      <td>103</td>\n",
       "      <td>03/20/2012</td>\n",
       "      <td>IT_PROG</td>\n",
       "      <td>9000</td>\n",
       "      <td>102.0</td>\n",
       "      <td>60.0</td>\n",
       "    </tr>\n",
       "    <tr>\n",
       "      <th>3</th>\n",
       "      <td>104</td>\n",
       "      <td>08/05/2013</td>\n",
       "      <td>IT_PROG</td>\n",
       "      <td>6000</td>\n",
       "      <td>103.0</td>\n",
       "      <td>60.0</td>\n",
       "    </tr>\n",
       "    <tr>\n",
       "      <th>4</th>\n",
       "      <td>105</td>\n",
       "      <td>09/10/2019</td>\n",
       "      <td>IT_PROG</td>\n",
       "      <td>4800</td>\n",
       "      <td>103.0</td>\n",
       "      <td>60.0</td>\n",
       "    </tr>\n",
       "    <tr>\n",
       "      <th>...</th>\n",
       "      <td>...</td>\n",
       "      <td>...</td>\n",
       "      <td>...</td>\n",
       "      <td>...</td>\n",
       "      <td>...</td>\n",
       "      <td>...</td>\n",
       "    </tr>\n",
       "    <tr>\n",
       "      <th>100</th>\n",
       "      <td>202</td>\n",
       "      <td>11/02/2019</td>\n",
       "      <td>MK_REP</td>\n",
       "      <td>6000</td>\n",
       "      <td>201.0</td>\n",
       "      <td>20.0</td>\n",
       "    </tr>\n",
       "    <tr>\n",
       "      <th>101</th>\n",
       "      <td>203</td>\n",
       "      <td>08/22/2016</td>\n",
       "      <td>HR_REP</td>\n",
       "      <td>6500</td>\n",
       "      <td>101.0</td>\n",
       "      <td>40.0</td>\n",
       "    </tr>\n",
       "    <tr>\n",
       "      <th>102</th>\n",
       "      <td>204</td>\n",
       "      <td>08/22/2016</td>\n",
       "      <td>PR_REP</td>\n",
       "      <td>10000</td>\n",
       "      <td>101.0</td>\n",
       "      <td>70.0</td>\n",
       "    </tr>\n",
       "    <tr>\n",
       "      <th>103</th>\n",
       "      <td>205</td>\n",
       "      <td>08/22/2016</td>\n",
       "      <td>AC_MGR</td>\n",
       "      <td>12000</td>\n",
       "      <td>101.0</td>\n",
       "      <td>110.0</td>\n",
       "    </tr>\n",
       "    <tr>\n",
       "      <th>104</th>\n",
       "      <td>206</td>\n",
       "      <td>08/22/2016</td>\n",
       "      <td>AC_ACCOUNT</td>\n",
       "      <td>8300</td>\n",
       "      <td>205.0</td>\n",
       "      <td>110.0</td>\n",
       "    </tr>\n",
       "  </tbody>\n",
       "</table>\n",
       "<p>105 rows × 6 columns</p>\n",
       "</div>"
      ],
      "text/plain": [
       "     EMPLOYEE_ID   HIRE_DATE      JOB_ID  SALARY  MANAGER_ID  DEPARTMENT_ID\n",
       "0            101  12/07/2011       AD_VP   17000       100.0           90.0\n",
       "1            102  03/31/2015       AD_VP   17000       100.0           90.0\n",
       "2            103  03/20/2012     IT_PROG    9000       102.0           60.0\n",
       "3            104  08/05/2013     IT_PROG    6000       103.0           60.0\n",
       "4            105  09/10/2019     IT_PROG    4800       103.0           60.0\n",
       "..           ...         ...         ...     ...         ...            ...\n",
       "100          202  11/02/2019      MK_REP    6000       201.0           20.0\n",
       "101          203  08/22/2016      HR_REP    6500       101.0           40.0\n",
       "102          204  08/22/2016      PR_REP   10000       101.0           70.0\n",
       "103          205  08/22/2016      AC_MGR   12000       101.0          110.0\n",
       "104          206  08/22/2016  AC_ACCOUNT    8300       205.0          110.0\n",
       "\n",
       "[105 rows x 6 columns]"
      ]
     },
     "execution_count": 84,
     "metadata": {},
     "output_type": "execute_result"
    }
   ],
   "source": [
    " emp_target"
   ]
  },
  {
   "cell_type": "code",
   "execution_count": null,
   "id": "610e19c7",
   "metadata": {},
   "outputs": [],
   "source": []
  }
 ],
 "metadata": {
  "kernelspec": {
   "display_name": "Python 3 (ipykernel)",
   "language": "python",
   "name": "python3"
  },
  "language_info": {
   "codemirror_mode": {
    "name": "ipython",
    "version": 3
   },
   "file_extension": ".py",
   "mimetype": "text/x-python",
   "name": "python",
   "nbconvert_exporter": "python",
   "pygments_lexer": "ipython3",
   "version": "3.11.1"
  }
 },
 "nbformat": 4,
 "nbformat_minor": 5
}

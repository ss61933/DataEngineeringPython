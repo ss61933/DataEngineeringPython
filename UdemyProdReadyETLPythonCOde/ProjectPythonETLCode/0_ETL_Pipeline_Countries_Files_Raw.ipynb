{
 "cells": [
  {
   "cell_type": "code",
   "execution_count": 1,
   "id": "749e9d8d",
   "metadata": {},
   "outputs": [],
   "source": [
    "import boto3\n",
    "import pandas as pd\n",
    "from io import StringIO\n",
    "from datetime import *"
   ]
  },
  {
   "cell_type": "code",
   "execution_count": 2,
   "id": "ee30e412",
   "metadata": {},
   "outputs": [],
   "source": [
    "#paramterize the source, file format ,naming conventions \n",
    "#1 op file format \n",
    "arg_date_format='%Y%m%d_%H%M%S'\n",
    "file_ext='.csv'\n",
    "\n",
    "key ='employees_op_'+ datetime.today().strftime(arg_date_format)+file_ext\n",
    "\n",
    "#2 source  bucekt \n",
    "src_bucket='buckets3stocholm'\n",
    "\n",
    "#3 target bucekt \n",
    "trgt_bucket='buckets3stocholm'\n",
    "\n",
    "\n",
    "#4 column list for op file \n",
    "columns_list=['EMPLOYEE_ID','HIRE_DATE', 'JOB_ID', 'SALARY', 'MANAGER_ID', 'DEPARTMENT_ID']"
   ]
  },
  {
   "cell_type": "code",
   "execution_count": null,
   "id": "ccdcb195",
   "metadata": {},
   "outputs": [],
   "source": []
  },
  {
   "cell_type": "code",
   "execution_count": 3,
   "id": "ca0f3296",
   "metadata": {},
   "outputs": [],
   "source": [
    "s3=boto3.resource('s3')\n",
    "bucket=s3.Bucket(src_bucket)"
   ]
  },
  {
   "cell_type": "code",
   "execution_count": 4,
   "id": "0c4f2656",
   "metadata": {},
   "outputs": [],
   "source": [
    "bucket_obj1=bucket.objects.filter(Prefix='employees.csv')\n",
    "bucket_obj2=bucket.objects.filter(Prefix='employees2.csv')\n",
    "objects=[obj for obj in bucket_obj1] + [obj for obj in bucket_obj2]"
   ]
  },
  {
   "cell_type": "code",
   "execution_count": 5,
   "id": "2a04c1d7",
   "metadata": {},
   "outputs": [
    {
     "data": {
      "text/plain": [
       "[s3.ObjectSummary(bucket_name='buckets3stocholm', key='employees.csv'),\n",
       " s3.ObjectSummary(bucket_name='buckets3stocholm', key='employees2.csv')]"
      ]
     },
     "execution_count": 5,
     "metadata": {},
     "output_type": "execute_result"
    }
   ],
   "source": [
    "objects"
   ]
  },
  {
   "cell_type": "code",
   "execution_count": 6,
   "id": "4b29968e",
   "metadata": {},
   "outputs": [
    {
     "data": {
      "text/plain": [
       "Index(['EMPLOYEE_ID', 'FIRST_NAME', 'LAST_NAME', 'EMAIL', 'PHONE_NUMBER',\n",
       "       'HIRE_DATE', 'JOB_ID', 'SALARY', 'MANAGER_ID', 'DEPARTMENT_ID'],\n",
       "      dtype='object')"
      ]
     },
     "execution_count": 6,
     "metadata": {},
     "output_type": "execute_result"
    }
   ],
   "source": [
    "## Lets create a data frame to hold the data from both the csv - from this we will get the column list \n",
    "df_dummy=bucket.Object(key=objects[0].key).get().get('Body').read().decode('utf8')\n",
    "data_dummy=StringIO(df_dummy)\n",
    "df1=pd.read_csv(data_dummy,delimiter=',')\n",
    "df1.columns\n"
   ]
  },
  {
   "cell_type": "code",
   "execution_count": 9,
   "id": "2bf929ca",
   "metadata": {},
   "outputs": [],
   "source": [
    "df_all=pd.DataFrame(columns=df1.columns)\n",
    "\n",
    "for obj in objects:\n",
    "    csv_emp=bucket.Object(key=obj.key).get().get('Body').read().decode('utf-8')\n",
    "    data_emp=StringIO(csv_emp) \n",
    "    df=pd.read_csv(data_emp,delimiter=',')\n",
    "   ## df_all=df_all.append(df) -- this is not working so as of now considering data of one file \n",
    "    df_all=df"
   ]
  },
  {
   "cell_type": "code",
   "execution_count": 10,
   "id": "02fde58b",
   "metadata": {},
   "outputs": [
    {
     "data": {
      "text/plain": [
       "EMPLOYEE_ID      107\n",
       "FIRST_NAME       107\n",
       "LAST_NAME        107\n",
       "EMAIL            107\n",
       "PHONE_NUMBER     107\n",
       "HIRE_DATE        107\n",
       "JOB_ID           107\n",
       "SALARY           107\n",
       "MANAGER_ID       106\n",
       "DEPARTMENT_ID    102\n",
       "dtype: int64"
      ]
     },
     "execution_count": 10,
     "metadata": {},
     "output_type": "execute_result"
    }
   ],
   "source": [
    "df_all.count()"
   ]
  },
  {
   "cell_type": "code",
   "execution_count": 11,
   "id": "ca0ed53a",
   "metadata": {},
   "outputs": [],
   "source": [
    "#now fetch only needed columns from the file \n",
    "\n",
    "df_all=df_all.loc[:,columns_list]"
   ]
  },
  {
   "cell_type": "code",
   "execution_count": 12,
   "id": "12967e44",
   "metadata": {},
   "outputs": [
    {
     "data": {
      "text/html": [
       "<div>\n",
       "<style scoped>\n",
       "    .dataframe tbody tr th:only-of-type {\n",
       "        vertical-align: middle;\n",
       "    }\n",
       "\n",
       "    .dataframe tbody tr th {\n",
       "        vertical-align: top;\n",
       "    }\n",
       "\n",
       "    .dataframe thead th {\n",
       "        text-align: right;\n",
       "    }\n",
       "</style>\n",
       "<table border=\"1\" class=\"dataframe\">\n",
       "  <thead>\n",
       "    <tr style=\"text-align: right;\">\n",
       "      <th></th>\n",
       "      <th>EMPLOYEE_ID</th>\n",
       "      <th>HIRE_DATE</th>\n",
       "      <th>JOB_ID</th>\n",
       "      <th>SALARY</th>\n",
       "      <th>MANAGER_ID</th>\n",
       "      <th>DEPARTMENT_ID</th>\n",
       "    </tr>\n",
       "  </thead>\n",
       "  <tbody>\n",
       "    <tr>\n",
       "      <th>0</th>\n",
       "      <td>300</td>\n",
       "      <td>9/1/2009</td>\n",
       "      <td>AD_PRES</td>\n",
       "      <td>24000</td>\n",
       "      <td>NaN</td>\n",
       "      <td>90.0</td>\n",
       "    </tr>\n",
       "    <tr>\n",
       "      <th>1</th>\n",
       "      <td>301</td>\n",
       "      <td>12/7/2011</td>\n",
       "      <td>AD_VP</td>\n",
       "      <td>17000</td>\n",
       "      <td>100.0</td>\n",
       "      <td>90.0</td>\n",
       "    </tr>\n",
       "    <tr>\n",
       "      <th>2</th>\n",
       "      <td>302</td>\n",
       "      <td>3/31/2015</td>\n",
       "      <td>AD_VP</td>\n",
       "      <td>17000</td>\n",
       "      <td>100.0</td>\n",
       "      <td>90.0</td>\n",
       "    </tr>\n",
       "    <tr>\n",
       "      <th>3</th>\n",
       "      <td>303</td>\n",
       "      <td>3/20/2012</td>\n",
       "      <td>IT_PROG</td>\n",
       "      <td>9000</td>\n",
       "      <td>102.0</td>\n",
       "      <td>60.0</td>\n",
       "    </tr>\n",
       "    <tr>\n",
       "      <th>4</th>\n",
       "      <td>304</td>\n",
       "      <td>8/5/2013</td>\n",
       "      <td>IT_PROG</td>\n",
       "      <td>6000</td>\n",
       "      <td>103.0</td>\n",
       "      <td>100.0</td>\n",
       "    </tr>\n",
       "    <tr>\n",
       "      <th>...</th>\n",
       "      <td>...</td>\n",
       "      <td>...</td>\n",
       "      <td>...</td>\n",
       "      <td>...</td>\n",
       "      <td>...</td>\n",
       "      <td>...</td>\n",
       "    </tr>\n",
       "    <tr>\n",
       "      <th>102</th>\n",
       "      <td>402</td>\n",
       "      <td>11/2/2019</td>\n",
       "      <td>MK_REP</td>\n",
       "      <td>6000</td>\n",
       "      <td>201.0</td>\n",
       "      <td>NaN</td>\n",
       "    </tr>\n",
       "    <tr>\n",
       "      <th>103</th>\n",
       "      <td>403</td>\n",
       "      <td>8/22/2016</td>\n",
       "      <td>HR_REP</td>\n",
       "      <td>6500</td>\n",
       "      <td>101.0</td>\n",
       "      <td>NaN</td>\n",
       "    </tr>\n",
       "    <tr>\n",
       "      <th>104</th>\n",
       "      <td>404</td>\n",
       "      <td>8/22/2016</td>\n",
       "      <td>PR_REP</td>\n",
       "      <td>10000</td>\n",
       "      <td>101.0</td>\n",
       "      <td>NaN</td>\n",
       "    </tr>\n",
       "    <tr>\n",
       "      <th>105</th>\n",
       "      <td>405</td>\n",
       "      <td>8/22/2016</td>\n",
       "      <td>AC_MGR</td>\n",
       "      <td>12000</td>\n",
       "      <td>101.0</td>\n",
       "      <td>NaN</td>\n",
       "    </tr>\n",
       "    <tr>\n",
       "      <th>106</th>\n",
       "      <td>406</td>\n",
       "      <td>8/22/2016</td>\n",
       "      <td>AC_ACCOUNT</td>\n",
       "      <td>8300</td>\n",
       "      <td>205.0</td>\n",
       "      <td>NaN</td>\n",
       "    </tr>\n",
       "  </tbody>\n",
       "</table>\n",
       "<p>107 rows × 6 columns</p>\n",
       "</div>"
      ],
      "text/plain": [
       "     EMPLOYEE_ID  HIRE_DATE      JOB_ID  SALARY  MANAGER_ID  DEPARTMENT_ID\n",
       "0            300   9/1/2009     AD_PRES   24000         NaN           90.0\n",
       "1            301  12/7/2011       AD_VP   17000       100.0           90.0\n",
       "2            302  3/31/2015       AD_VP   17000       100.0           90.0\n",
       "3            303  3/20/2012     IT_PROG    9000       102.0           60.0\n",
       "4            304   8/5/2013     IT_PROG    6000       103.0          100.0\n",
       "..           ...        ...         ...     ...         ...            ...\n",
       "102          402  11/2/2019      MK_REP    6000       201.0            NaN\n",
       "103          403  8/22/2016      HR_REP    6500       101.0            NaN\n",
       "104          404  8/22/2016      PR_REP   10000       101.0            NaN\n",
       "105          405  8/22/2016      AC_MGR   12000       101.0            NaN\n",
       "106          406  8/22/2016  AC_ACCOUNT    8300       205.0            NaN\n",
       "\n",
       "[107 rows x 6 columns]"
      ]
     },
     "execution_count": 12,
     "metadata": {},
     "output_type": "execute_result"
    }
   ],
   "source": [
    "df_all"
   ]
  },
  {
   "cell_type": "code",
   "execution_count": 13,
   "id": "aad95a9c",
   "metadata": {},
   "outputs": [
    {
     "data": {
      "text/plain": [
       "(101, 6)"
      ]
     },
     "execution_count": 13,
     "metadata": {},
     "output_type": "execute_result"
    }
   ],
   "source": [
    "df_all.dropna(inplace=True) # Drop any empty values \n",
    "df_all.shape # check the size "
   ]
  },
  {
   "cell_type": "code",
   "execution_count": 14,
   "id": "51d6d769",
   "metadata": {},
   "outputs": [
    {
     "data": {
      "text/html": [
       "<div>\n",
       "<style scoped>\n",
       "    .dataframe tbody tr th:only-of-type {\n",
       "        vertical-align: middle;\n",
       "    }\n",
       "\n",
       "    .dataframe tbody tr th {\n",
       "        vertical-align: top;\n",
       "    }\n",
       "\n",
       "    .dataframe thead th {\n",
       "        text-align: right;\n",
       "    }\n",
       "</style>\n",
       "<table border=\"1\" class=\"dataframe\">\n",
       "  <thead>\n",
       "    <tr style=\"text-align: right;\">\n",
       "      <th></th>\n",
       "      <th>EMPLOYEE_ID</th>\n",
       "      <th>HIRE_DATE</th>\n",
       "      <th>JOB_ID</th>\n",
       "      <th>SALARY</th>\n",
       "      <th>MANAGER_ID</th>\n",
       "      <th>DEPARTMENT_ID</th>\n",
       "    </tr>\n",
       "  </thead>\n",
       "  <tbody>\n",
       "    <tr>\n",
       "      <th>1</th>\n",
       "      <td>301</td>\n",
       "      <td>12/7/2011</td>\n",
       "      <td>AD_VP</td>\n",
       "      <td>17000</td>\n",
       "      <td>100.0</td>\n",
       "      <td>90.0</td>\n",
       "    </tr>\n",
       "    <tr>\n",
       "      <th>2</th>\n",
       "      <td>302</td>\n",
       "      <td>3/31/2015</td>\n",
       "      <td>AD_VP</td>\n",
       "      <td>17000</td>\n",
       "      <td>100.0</td>\n",
       "      <td>90.0</td>\n",
       "    </tr>\n",
       "    <tr>\n",
       "      <th>3</th>\n",
       "      <td>303</td>\n",
       "      <td>3/20/2012</td>\n",
       "      <td>IT_PROG</td>\n",
       "      <td>9000</td>\n",
       "      <td>102.0</td>\n",
       "      <td>60.0</td>\n",
       "    </tr>\n",
       "    <tr>\n",
       "      <th>4</th>\n",
       "      <td>304</td>\n",
       "      <td>8/5/2013</td>\n",
       "      <td>IT_PROG</td>\n",
       "      <td>6000</td>\n",
       "      <td>103.0</td>\n",
       "      <td>100.0</td>\n",
       "    </tr>\n",
       "    <tr>\n",
       "      <th>5</th>\n",
       "      <td>305</td>\n",
       "      <td>9/10/2019</td>\n",
       "      <td>IT_PROG</td>\n",
       "      <td>4800</td>\n",
       "      <td>103.0</td>\n",
       "      <td>100.0</td>\n",
       "    </tr>\n",
       "    <tr>\n",
       "      <th>...</th>\n",
       "      <td>...</td>\n",
       "      <td>...</td>\n",
       "      <td>...</td>\n",
       "      <td>...</td>\n",
       "      <td>...</td>\n",
       "      <td>...</td>\n",
       "    </tr>\n",
       "    <tr>\n",
       "      <th>97</th>\n",
       "      <td>397</td>\n",
       "      <td>8/7/2020</td>\n",
       "      <td>SH_CLERK</td>\n",
       "      <td>3000</td>\n",
       "      <td>124.0</td>\n",
       "      <td>50.0</td>\n",
       "    </tr>\n",
       "    <tr>\n",
       "      <th>98</th>\n",
       "      <td>398</td>\n",
       "      <td>9/5/2021</td>\n",
       "      <td>SH_CLERK</td>\n",
       "      <td>2600</td>\n",
       "      <td>124.0</td>\n",
       "      <td>50.0</td>\n",
       "    </tr>\n",
       "    <tr>\n",
       "      <th>99</th>\n",
       "      <td>399</td>\n",
       "      <td>3/30/2022</td>\n",
       "      <td>SH_CLERK</td>\n",
       "      <td>2600</td>\n",
       "      <td>124.0</td>\n",
       "      <td>50.0</td>\n",
       "    </tr>\n",
       "    <tr>\n",
       "      <th>100</th>\n",
       "      <td>400</td>\n",
       "      <td>12/2/2009</td>\n",
       "      <td>AD_ASST</td>\n",
       "      <td>4400</td>\n",
       "      <td>101.0</td>\n",
       "      <td>10.0</td>\n",
       "    </tr>\n",
       "    <tr>\n",
       "      <th>101</th>\n",
       "      <td>401</td>\n",
       "      <td>5/4/2018</td>\n",
       "      <td>MK_MAN</td>\n",
       "      <td>13000</td>\n",
       "      <td>100.0</td>\n",
       "      <td>20.0</td>\n",
       "    </tr>\n",
       "  </tbody>\n",
       "</table>\n",
       "<p>101 rows × 6 columns</p>\n",
       "</div>"
      ],
      "text/plain": [
       "     EMPLOYEE_ID  HIRE_DATE    JOB_ID  SALARY  MANAGER_ID  DEPARTMENT_ID\n",
       "1            301  12/7/2011     AD_VP   17000       100.0           90.0\n",
       "2            302  3/31/2015     AD_VP   17000       100.0           90.0\n",
       "3            303  3/20/2012   IT_PROG    9000       102.0           60.0\n",
       "4            304   8/5/2013   IT_PROG    6000       103.0          100.0\n",
       "5            305  9/10/2019   IT_PROG    4800       103.0          100.0\n",
       "..           ...        ...       ...     ...         ...            ...\n",
       "97           397   8/7/2020  SH_CLERK    3000       124.0           50.0\n",
       "98           398   9/5/2021  SH_CLERK    2600       124.0           50.0\n",
       "99           399  3/30/2022  SH_CLERK    2600       124.0           50.0\n",
       "100          400  12/2/2009   AD_ASST    4400       101.0           10.0\n",
       "101          401   5/4/2018    MK_MAN   13000       100.0           20.0\n",
       "\n",
       "[101 rows x 6 columns]"
      ]
     },
     "execution_count": 14,
     "metadata": {},
     "output_type": "execute_result"
    }
   ],
   "source": [
    "df_all"
   ]
  },
  {
   "cell_type": "code",
   "execution_count": 15,
   "id": "8efc05e1",
   "metadata": {},
   "outputs": [],
   "source": [
    "# Now we can apply any required transformations here and prepare a report"
   ]
  },
  {
   "cell_type": "code",
   "execution_count": null,
   "id": "0050f531",
   "metadata": {},
   "outputs": [],
   "source": []
  },
  {
   "cell_type": "code",
   "execution_count": null,
   "id": "fbbc01a4",
   "metadata": {},
   "outputs": [],
   "source": []
  },
  {
   "cell_type": "code",
   "execution_count": 16,
   "id": "5f9a05db",
   "metadata": {},
   "outputs": [
    {
     "name": "stdout",
     "output_type": "stream",
     "text": [
      "employees_op_20230407_170012.csv\n"
     ]
    }
   ],
   "source": [
    "#Copy back the data to S3 bucket \n",
    "\n",
    "print(key)"
   ]
  },
  {
   "cell_type": "code",
   "execution_count": 17,
   "id": "12825b2e",
   "metadata": {},
   "outputs": [
    {
     "data": {
      "text/plain": [
       "s3.Object(bucket_name='buckets3stocholm', key='employees_op_20230407_170012.csv')"
      ]
     },
     "execution_count": 17,
     "metadata": {},
     "output_type": "execute_result"
    }
   ],
   "source": [
    "op_data=StringIO()\n",
    "df_all.to_csv(op_data,index=False)\n",
    "bucket_target=s3.Bucket(trgt_bucket)\n",
    "bucket_target.put_object(Body=op_data.getvalue(),Key=key)"
   ]
  },
  {
   "cell_type": "markdown",
   "id": "fec1ee57",
   "metadata": {},
   "source": [
    "# Reading uploaded file "
   ]
  },
  {
   "cell_type": "code",
   "execution_count": 18,
   "id": "26f047b4",
   "metadata": {},
   "outputs": [
    {
     "name": "stdout",
     "output_type": "stream",
     "text": [
      "employees_op_20230407_170012.csv\n"
     ]
    }
   ],
   "source": [
    "for obj in  bucket_target.objects.all():\n",
    "    if (obj.key==key):\n",
    "        print(obj.key)\n",
    "        csv_obj=bucket_target.Object(key=obj.key).get().get('Body').read().decode('utf8')\n",
    "        data=StringIO(csv_obj)\n",
    "        emp_target=pd.read_csv(data,delimiter=',')\n",
    "        "
   ]
  },
  {
   "cell_type": "code",
   "execution_count": 19,
   "id": "f3846edb",
   "metadata": {},
   "outputs": [
    {
     "data": {
      "text/html": [
       "<div>\n",
       "<style scoped>\n",
       "    .dataframe tbody tr th:only-of-type {\n",
       "        vertical-align: middle;\n",
       "    }\n",
       "\n",
       "    .dataframe tbody tr th {\n",
       "        vertical-align: top;\n",
       "    }\n",
       "\n",
       "    .dataframe thead th {\n",
       "        text-align: right;\n",
       "    }\n",
       "</style>\n",
       "<table border=\"1\" class=\"dataframe\">\n",
       "  <thead>\n",
       "    <tr style=\"text-align: right;\">\n",
       "      <th></th>\n",
       "      <th>EMPLOYEE_ID</th>\n",
       "      <th>HIRE_DATE</th>\n",
       "      <th>JOB_ID</th>\n",
       "      <th>SALARY</th>\n",
       "      <th>MANAGER_ID</th>\n",
       "      <th>DEPARTMENT_ID</th>\n",
       "    </tr>\n",
       "  </thead>\n",
       "  <tbody>\n",
       "    <tr>\n",
       "      <th>0</th>\n",
       "      <td>301</td>\n",
       "      <td>12/7/2011</td>\n",
       "      <td>AD_VP</td>\n",
       "      <td>17000</td>\n",
       "      <td>100.0</td>\n",
       "      <td>90.0</td>\n",
       "    </tr>\n",
       "    <tr>\n",
       "      <th>1</th>\n",
       "      <td>302</td>\n",
       "      <td>3/31/2015</td>\n",
       "      <td>AD_VP</td>\n",
       "      <td>17000</td>\n",
       "      <td>100.0</td>\n",
       "      <td>90.0</td>\n",
       "    </tr>\n",
       "    <tr>\n",
       "      <th>2</th>\n",
       "      <td>303</td>\n",
       "      <td>3/20/2012</td>\n",
       "      <td>IT_PROG</td>\n",
       "      <td>9000</td>\n",
       "      <td>102.0</td>\n",
       "      <td>60.0</td>\n",
       "    </tr>\n",
       "    <tr>\n",
       "      <th>3</th>\n",
       "      <td>304</td>\n",
       "      <td>8/5/2013</td>\n",
       "      <td>IT_PROG</td>\n",
       "      <td>6000</td>\n",
       "      <td>103.0</td>\n",
       "      <td>100.0</td>\n",
       "    </tr>\n",
       "    <tr>\n",
       "      <th>4</th>\n",
       "      <td>305</td>\n",
       "      <td>9/10/2019</td>\n",
       "      <td>IT_PROG</td>\n",
       "      <td>4800</td>\n",
       "      <td>103.0</td>\n",
       "      <td>100.0</td>\n",
       "    </tr>\n",
       "    <tr>\n",
       "      <th>...</th>\n",
       "      <td>...</td>\n",
       "      <td>...</td>\n",
       "      <td>...</td>\n",
       "      <td>...</td>\n",
       "      <td>...</td>\n",
       "      <td>...</td>\n",
       "    </tr>\n",
       "    <tr>\n",
       "      <th>96</th>\n",
       "      <td>397</td>\n",
       "      <td>8/7/2020</td>\n",
       "      <td>SH_CLERK</td>\n",
       "      <td>3000</td>\n",
       "      <td>124.0</td>\n",
       "      <td>50.0</td>\n",
       "    </tr>\n",
       "    <tr>\n",
       "      <th>97</th>\n",
       "      <td>398</td>\n",
       "      <td>9/5/2021</td>\n",
       "      <td>SH_CLERK</td>\n",
       "      <td>2600</td>\n",
       "      <td>124.0</td>\n",
       "      <td>50.0</td>\n",
       "    </tr>\n",
       "    <tr>\n",
       "      <th>98</th>\n",
       "      <td>399</td>\n",
       "      <td>3/30/2022</td>\n",
       "      <td>SH_CLERK</td>\n",
       "      <td>2600</td>\n",
       "      <td>124.0</td>\n",
       "      <td>50.0</td>\n",
       "    </tr>\n",
       "    <tr>\n",
       "      <th>99</th>\n",
       "      <td>400</td>\n",
       "      <td>12/2/2009</td>\n",
       "      <td>AD_ASST</td>\n",
       "      <td>4400</td>\n",
       "      <td>101.0</td>\n",
       "      <td>10.0</td>\n",
       "    </tr>\n",
       "    <tr>\n",
       "      <th>100</th>\n",
       "      <td>401</td>\n",
       "      <td>5/4/2018</td>\n",
       "      <td>MK_MAN</td>\n",
       "      <td>13000</td>\n",
       "      <td>100.0</td>\n",
       "      <td>20.0</td>\n",
       "    </tr>\n",
       "  </tbody>\n",
       "</table>\n",
       "<p>101 rows × 6 columns</p>\n",
       "</div>"
      ],
      "text/plain": [
       "     EMPLOYEE_ID  HIRE_DATE    JOB_ID  SALARY  MANAGER_ID  DEPARTMENT_ID\n",
       "0            301  12/7/2011     AD_VP   17000       100.0           90.0\n",
       "1            302  3/31/2015     AD_VP   17000       100.0           90.0\n",
       "2            303  3/20/2012   IT_PROG    9000       102.0           60.0\n",
       "3            304   8/5/2013   IT_PROG    6000       103.0          100.0\n",
       "4            305  9/10/2019   IT_PROG    4800       103.0          100.0\n",
       "..           ...        ...       ...     ...         ...            ...\n",
       "96           397   8/7/2020  SH_CLERK    3000       124.0           50.0\n",
       "97           398   9/5/2021  SH_CLERK    2600       124.0           50.0\n",
       "98           399  3/30/2022  SH_CLERK    2600       124.0           50.0\n",
       "99           400  12/2/2009   AD_ASST    4400       101.0           10.0\n",
       "100          401   5/4/2018    MK_MAN   13000       100.0           20.0\n",
       "\n",
       "[101 rows x 6 columns]"
      ]
     },
     "execution_count": 19,
     "metadata": {},
     "output_type": "execute_result"
    }
   ],
   "source": [
    " emp_target"
   ]
  },
  {
   "cell_type": "code",
   "execution_count": null,
   "id": "610e19c7",
   "metadata": {},
   "outputs": [],
   "source": []
  }
 ],
 "metadata": {
  "kernelspec": {
   "display_name": "Python 3 (ipykernel)",
   "language": "python",
   "name": "python3"
  },
  "language_info": {
   "codemirror_mode": {
    "name": "ipython",
    "version": 3
   },
   "file_extension": ".py",
   "mimetype": "text/x-python",
   "name": "python",
   "nbconvert_exporter": "python",
   "pygments_lexer": "ipython3",
   "version": "3.11.1"
  }
 },
 "nbformat": 4,
 "nbformat_minor": 5
}
